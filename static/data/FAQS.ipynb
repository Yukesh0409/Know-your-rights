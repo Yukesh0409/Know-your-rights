{
 "cells": [
  {
   "cell_type": "code",
   "execution_count": 75,
   "id": "14a02fde-ffaf-4de3-8f36-da732104953e",
   "metadata": {},
   "outputs": [],
   "source": [
    "import pandas as pd"
   ]
  },
  {
   "cell_type": "code",
   "execution_count": 76,
   "id": "95074ff7-03c3-45a4-873b-322514e2c80e",
   "metadata": {
    "tags": []
   },
   "outputs": [],
   "source": [
    "gsheetid = \"18Yq6ap93DjQjy0HCceGL15bejKmQjyvX7tE1QQSLeR8\"\n",
    "sheet_name = \"Sheet1\""
   ]
  },
  {
   "cell_type": "code",
   "execution_count": 77,
   "id": "0480593b-82c5-47ff-ac1b-bacc92e1951b",
   "metadata": {},
   "outputs": [],
   "source": [
    "gsheet_url = \"https://docs.google.com/spreadsheets/d/{}/gviz/tq?tqx=out:csv&sheet={}&range=A1:C161\".format(gsheetid, sheet_name)"
   ]
  },
  {
   "cell_type": "code",
   "execution_count": 78,
   "id": "a94f056c-c135-4f62-8104-70ba248ad74c",
   "metadata": {
    "tags": []
   },
   "outputs": [],
   "source": [
    "df = pd.read_csv(gsheet_url)"
   ]
  },
  {
   "cell_type": "code",
   "execution_count": 79,
   "id": "8f03df86-5b9e-4da6-9b31-7e7f3fd8e6de",
   "metadata": {
    "tags": []
   },
   "outputs": [
    {
     "data": {
      "text/html": [
       "<div>\n",
       "<style scoped>\n",
       "    .dataframe tbody tr th:only-of-type {\n",
       "        vertical-align: middle;\n",
       "    }\n",
       "\n",
       "    .dataframe tbody tr th {\n",
       "        vertical-align: top;\n",
       "    }\n",
       "\n",
       "    .dataframe thead th {\n",
       "        text-align: right;\n",
       "    }\n",
       "</style>\n",
       "<table border=\"1\" class=\"dataframe\">\n",
       "  <thead>\n",
       "    <tr style=\"text-align: right;\">\n",
       "      <th></th>\n",
       "      <th>LAW</th>\n",
       "      <th>QUESTION</th>\n",
       "      <th>ANSWER</th>\n",
       "    </tr>\n",
       "  </thead>\n",
       "  <tbody>\n",
       "    <tr>\n",
       "      <th>0</th>\n",
       "      <td>BAR COUNCIL</td>\n",
       "      <td>1.When can the Enrollment Application can be o...</td>\n",
       "      <td>The candidates who have passed out the Law Deg...</td>\n",
       "    </tr>\n",
       "    <tr>\n",
       "      <th>1</th>\n",
       "      <td>BAR COUNCIL</td>\n",
       "      <td>2.Whether the Candidates can download the Enro...</td>\n",
       "      <td>Yes, downloaded Enrolment Form will also be ac...</td>\n",
       "    </tr>\n",
       "    <tr>\n",
       "      <th>2</th>\n",
       "      <td>BAR COUNCIL</td>\n",
       "      <td>3.How to submit the Enrollment application form?</td>\n",
       "      <td>After fulfilling the requirements, the candida...</td>\n",
       "    </tr>\n",
       "    <tr>\n",
       "      <th>3</th>\n",
       "      <td>BAR COUNCIL</td>\n",
       "      <td>4.What are the charges for Identity Card?</td>\n",
       "      <td>Applicant has to pay a sum of Rs. 100/- in cas...</td>\n",
       "    </tr>\n",
       "    <tr>\n",
       "      <th>4</th>\n",
       "      <td>BAR COUNCIL</td>\n",
       "      <td>5.What are the Certificates required for Enrol...</td>\n",
       "      <td>All original Certificates i.e. (SSC or equival...</td>\n",
       "    </tr>\n",
       "    <tr>\n",
       "      <th>...</th>\n",
       "      <td>...</td>\n",
       "      <td>...</td>\n",
       "      <td>...</td>\n",
       "    </tr>\n",
       "    <tr>\n",
       "      <th>130</th>\n",
       "      <td>SUPREME COURT</td>\n",
       "      <td>3. What is the term of office for a Supreme Co...</td>\n",
       "      <td>Supreme Court judges have a retirement age of ...</td>\n",
       "    </tr>\n",
       "    <tr>\n",
       "      <th>131</th>\n",
       "      <td>SUPREME COURT</td>\n",
       "      <td>4. What types of cases does the Supreme Court ...</td>\n",
       "      <td>The Supreme Court hears a wide range of cases,...</td>\n",
       "    </tr>\n",
       "    <tr>\n",
       "      <th>132</th>\n",
       "      <td>SUPREME COURT</td>\n",
       "      <td>5. How can one file a public interest litigati...</td>\n",
       "      <td>PILs can be filed by any individual or organiz...</td>\n",
       "    </tr>\n",
       "    <tr>\n",
       "      <th>133</th>\n",
       "      <td>SUPREME COURT</td>\n",
       "      <td>6. What is the procedure for appealing to the ...</td>\n",
       "      <td>To appeal to the Supreme Court, one must file ...</td>\n",
       "    </tr>\n",
       "    <tr>\n",
       "      <th>134</th>\n",
       "      <td>SUPREME COURT</td>\n",
       "      <td>7. Can the Supreme Court's decisions be challe...</td>\n",
       "      <td>The Supreme Court can review its own decisions...</td>\n",
       "    </tr>\n",
       "  </tbody>\n",
       "</table>\n",
       "<p>135 rows × 3 columns</p>\n",
       "</div>"
      ],
      "text/plain": [
       "               LAW                                           QUESTION  \\\n",
       "0     BAR COUNCIL   1.When can the Enrollment Application can be o...   \n",
       "1     BAR COUNCIL   2.Whether the Candidates can download the Enro...   \n",
       "2     BAR COUNCIL    3.How to submit the Enrollment application form?   \n",
       "3     BAR COUNCIL           4.What are the charges for Identity Card?   \n",
       "4     BAR COUNCIL   5.What are the Certificates required for Enrol...   \n",
       "..             ...                                                ...   \n",
       "130  SUPREME COURT  3. What is the term of office for a Supreme Co...   \n",
       "131  SUPREME COURT  4. What types of cases does the Supreme Court ...   \n",
       "132  SUPREME COURT  5. How can one file a public interest litigati...   \n",
       "133  SUPREME COURT  6. What is the procedure for appealing to the ...   \n",
       "134  SUPREME COURT  7. Can the Supreme Court's decisions be challe...   \n",
       "\n",
       "                                                ANSWER  \n",
       "0    The candidates who have passed out the Law Deg...  \n",
       "1    Yes, downloaded Enrolment Form will also be ac...  \n",
       "2    After fulfilling the requirements, the candida...  \n",
       "3    Applicant has to pay a sum of Rs. 100/- in cas...  \n",
       "4    All original Certificates i.e. (SSC or equival...  \n",
       "..                                                 ...  \n",
       "130  Supreme Court judges have a retirement age of ...  \n",
       "131  The Supreme Court hears a wide range of cases,...  \n",
       "132  PILs can be filed by any individual or organiz...  \n",
       "133  To appeal to the Supreme Court, one must file ...  \n",
       "134  The Supreme Court can review its own decisions...  \n",
       "\n",
       "[135 rows x 3 columns]"
      ]
     },
     "execution_count": 79,
     "metadata": {},
     "output_type": "execute_result"
    }
   ],
   "source": [
    "df"
   ]
  },
  {
   "cell_type": "code",
   "execution_count": 80,
   "id": "e0a06b52-4f79-4011-a6fb-6916b0b2f516",
   "metadata": {},
   "outputs": [],
   "source": [
    "import pandas as pd\n",
    "\n",
    "\n",
    "\n",
    "json_data = []\n",
    "current_law = None\n",
    "current_questions = []\n",
    "current_answers = []\n",
    "\n",
    "# Iterate through the rows of the DataFrame\n",
    "for index, row in df.iterrows():\n",
    "    if not pd.isnull(row['LAW']):\n",
    "        # If a new \"LAW\" is encountered, add the previous \"LAW,\" \"QUESTIONS,\" and \"ANSWERS\" to the JSON data\n",
    "        if current_law is not None:\n",
    "            json_data.append({'LAW': current_law, 'QUESTIONS': current_questions, 'ANSWERS': current_answers})\n",
    "        # Update the current \"LAW\" and reset the \"QUESTIONS\" and \"ANSWERS\" lists\n",
    "        current_law = row['LAW']\n",
    "        current_questions = []\n",
    "        current_answers = []\n",
    "    if not pd.isnull(row['QUESTION']):\n",
    "        # Add the non-null \"QUESTION\" to the current \"QUESTIONS\" list\n",
    "        current_questions.append(row['QUESTION'])\n",
    "    if not pd.isnull(row['ANSWER']):\n",
    "        # Add the non-null \"ANSWER\" to the current \"ANSWERS\" list\n",
    "        current_answers.append(row['ANSWER'])\n",
    "\n",
    "# Add the last \"LAW,\" \"QUESTIONS,\" and \"ANSWERS\" to the JSON data\n",
    "if current_law is not None:\n",
    "    json_data.append({'LAW': current_law, 'QUESTIONS': current_questions, 'ANSWERS': current_answers})\n",
    "\n",
    "# Convert the JSON data to a JSON format\n",
    "json_string = json.dumps(json_data, indent=4)\n"
   ]
  },
  {
   "cell_type": "code",
   "execution_count": 85,
   "id": "8969fef1-f534-429b-bfb6-1654b89f1890",
   "metadata": {},
   "outputs": [],
   "source": [
    "data = json.loads(json_string)\n",
    "query='CONSUMER LAW'\n",
    "results=[]\n",
    "# Extract questions and answers under \"BAR COUNCIL\"\n",
    "for entry in data:\n",
    "    # print(entry[\"LAW\"])\n",
    "    if entry[\"LAW\"] == query:\n",
    "        questions = entry[\"QUESTIONS\"]\n",
    "        answers = entry[\"ANSWERS\"]\n",
    "        results.append({\"LAW\": entry[\"LAW\"], \"QUESTIONS\": entry[\"QUESTIONS\"], \"ANSWERS\": entry[\"ANSWERS\"]})\n",
    "        \n",
    "# for i, (question, answer) in enumerate(zip(questions, answers), start=1):\n",
    "#     print(f\"{question}\")"
   ]
  },
  {
   "cell_type": "code",
   "execution_count": 86,
   "id": "4c5724e9-3289-4332-b9f9-fd4deefb5b46",
   "metadata": {},
   "outputs": [
    {
     "name": "stdout",
     "output_type": "stream",
     "text": [
      "[{'LAW': 'CONSUMER LAW', 'QUESTIONS': ['1. What is consumer law in India?'], 'ANSWERS': [\"Consumer law in India is a body of laws and regulations that protect the rights and interests of consumers. It covers issues related to product quality, safety, pricing, unfair trade practices, and consumers' ability to seek redressal for grievances.\"]}, {'LAW': 'CONSUMER LAW', 'QUESTIONS': ['2. What are the key rights of consumers under Indian consumer law?'], 'ANSWERS': ['Consumers have rights such as the right to information, right to choose, right to be heard, right to seek redressal, and the right to consumer education. These rights empower consumers to make informed choices and seek remedies for unfair treatment.']}, {'LAW': 'CONSUMER LAW', 'QUESTIONS': ['3. What is the role of consumer forums and commissions in India?'], 'ANSWERS': ['Consumer forums and commissions are quasi-judicial bodies that handle consumer complaints and disputes. They are organized at different levels, including District Consumer Disputes Redressal Forums, State Consumer Disputes Redressal Commissions, and the National Consumer Disputes Redressal Commission.']}, {'LAW': 'CONSUMER LAW', 'QUESTIONS': ['4. How can consumers file complaints and seek redressal under consumer law?'], 'ANSWERS': ['Consumers can file complaints with the appropriate consumer forum or commission, providing details of the grievance, evidence, and the relief sought. The forum will then conduct hearings and issue orders for compensation or resolution of the dispute.']}, {'LAW': 'CONSUMER LAW', 'QUESTIONS': ['5. What are some common types of consumer complaints in India?'], 'ANSWERS': ['Common consumer complaints include issues related to defective products, deficient services, unfair trade practices, overcharging, false advertising, and disputes with service providers like telecom companies, airlines, and e-commerce platforms.']}]\n"
     ]
    }
   ],
   "source": [
    "print(results)"
   ]
  },
  {
   "cell_type": "code",
   "execution_count": null,
   "id": "7cdac01d-f310-4200-bcd0-93e35dbf08dd",
   "metadata": {},
   "outputs": [],
   "source": []
  }
 ],
 "metadata": {
  "kernelspec": {
   "display_name": "Python 3 (ipykernel)",
   "language": "python",
   "name": "python3"
  },
  "language_info": {
   "codemirror_mode": {
    "name": "ipython",
    "version": 3
   },
   "file_extension": ".py",
   "mimetype": "text/x-python",
   "name": "python",
   "nbconvert_exporter": "python",
   "pygments_lexer": "ipython3",
   "version": "3.9.7"
  }
 },
 "nbformat": 4,
 "nbformat_minor": 5
}
